{
 "cells": [
  {
   "cell_type": "code",
   "execution_count": null,
   "metadata": {
    "collapsed": true
   },
   "outputs": [],
   "source": [
    "import pandas as pd\n",
    "from pandas import DataFrame, Series\n",
    "import numpy as np\n",
    "from IPython.display import display, HTML\n",
    "import matplotlib\n",
    "matplotlib.use(\"Agg\")\n",
    "import matplotlib.pyplot as plt\n",
    "%matplotlib inline\n",
    "import nmrglue as ng\n",
    "import glob"
   ]
  },
  {
   "cell_type": "code",
   "execution_count": null,
   "metadata": {
    "collapsed": true
   },
   "outputs": [],
   "source": [
    "filenames = glob.glob(\"*MQF*.fid\")\n",
    "experiment_list = []\n",
    "for filename in filenames:\n",
    "    dic, FIDs = ng.varian.read(filename)\n",
    "    count = 0\n",
    "    for i in range(np.shape(FIDs)[0]):\n",
    "        thisFID = FIDs[i]\n",
    "        if np.sum(thisFID) == 0.0 or np.max(np.abs(thisFID)) < 0.1:\n",
    "            print \"Ignored blank FID %d from %s.\" % (i+1, filename)\n",
    "            continue\n",
    "        count += 1\n",
    "        experiment_list.append(FIDs[i])    \n",
    "    npoints = np.shape(experiment_list[0])[0]\n",
    "    print \"Sequence: %s (%s=%s, %s=%s)\" % (dic[\"procpar\"][\"seqfil\"][\"values\"][0], dic[\"procpar\"][\"dn\"][\"values\"][0],\n",
    "                                           dic[\"procpar\"][\"dm\"][\"values\"][0], dic[\"procpar\"][\"dn2\"][\"values\"][0],\n",
    "                                           dic[\"procpar\"][\"dm2\"][\"values\"][0])\n",
    "    print \"%d FIDs loaded from %s (%d complex points, nt=%sx%s, d1=%s s).\" % (count, filename, npoints, len(dic[\"procpar\"][\"nt\"][\"values\"]), dic[\"procpar\"][\"nt\"][\"values\"][0], dic[\"procpar\"][\"d1\"][\"values\"][0])"
   ]
  },
  {
   "cell_type": "code",
   "execution_count": null,
   "metadata": {
    "collapsed": true
   },
   "outputs": [],
   "source": [
    "obs = float(dic[\"procpar\"][\"reffrq\"][\"values\"][0])\n",
    "sw  = float(dic[\"procpar\"][\"sw\"][\"values\"][0])  \n",
    "tof = float(dic[\"procpar\"][\"tof\"][\"values\"][0])     \n",
    "carrier = obs*1.0E6 + tof                           # carrier frequency in Hz\n",
    "\n",
    "udic = ng.varian.guess_udic(dic, FIDs)  \n",
    "udic[0]['size']     = int(dic[\"np\"])   # number of R|I points in the spectrum\n",
    "udic[0]['complex']  = True             # True if complex data\n",
    "udic[0]['encoding'] = 'direct'         # keep as 'direct'\n",
    "udic[0]['sw']       = sw               # spectral width in Hz\n",
    "udic[0]['obs']      = obs              # Observation freq. in MHz.\n",
    "udic[0]['car']      = carrier          # carrier freq in Hz\n",
    "udic[0]['label']    = 'F19'            # the observed nucleus\n",
    "udic[0]['time']     = True             # whether this is time domain data\n",
    "udic[0]['freq']     = False\n",
    "udic[\"ndim\"]        = 1"
   ]
  },
  {
   "cell_type": "code",
   "execution_count": null,
   "metadata": {
    "collapsed": true
   },
   "outputs": [],
   "source": [
    "def process(dic, FID):\n",
    "    C = ng.convert.converter()\n",
    "    C.from_varian(dic, FID, udic)\n",
    "    pdic, pdata = C.to_pipe()\n",
    "    pdic, pdata = ng.pipe_proc.em(pdic, pdata, lb=0.25)                 # line broadening\n",
    "    pdic, pdata = ng.pipe_proc.zf(pdic, pdata, size=4*npoints, auto=True)\n",
    "    pdic, pdata = ng.pipe_proc.ft(pdic, pdata)\n",
    "    pdic, pdata = ng.pipe_proc.ps(pdic, pdata, p0=202, p1=0)            # phase correction\n",
    "    return pdic, pdata"
   ]
  },
  {
   "cell_type": "code",
   "execution_count": null,
   "metadata": {
    "collapsed": true
   },
   "outputs": [],
   "source": [
    "raw_spectrum_list = [ process(dic,FID) for FID in experiment_list ]\n",
    "raw_spectra = [ spectrum for dic, spectrum in raw_spectrum_list ]\n",
    "    \n",
    "pdic, pdata = raw_spectrum_list[1]\n",
    "uc = ng.pipe.make_uc(pdic, pdata)\n",
    "ppm = uc.ppm_scale()\n",
    "ppm = ppm - ppm[-1] - 239.525        \n",
    "  \n",
    "spectrum_number = 0       \n",
    "spectrum = raw_spectra[spectrum_number]\n",
    "plt.figure(figsize=(18,4))\n",
    "plt.plot(ppm, np.real(spectrum), \"k\")\n",
    "plt.xlim(-50,-230)      \n",
    "plt.ylim(-2E6,1E7)      \n",
    "\n",
    "plt.xlabel(\"19F chemical shift (ppm)\")\n",
    "ax = plt.gca()\n",
    "ax.tick_params(top=\"off\")\n",
    "ax.get_xaxis().set_tick_params(length=5,direction='out', width=1)\n",
    "locs, labels = plt.xticks()\n",
    "plt.setp(labels, rotation=90)\n",
    "plt.show()"
   ]
  },
  {
   "cell_type": "code",
   "execution_count": null,
   "metadata": {
    "collapsed": true
   },
   "outputs": [],
   "source": [
    "interval = ppm[1]-ppm[0]\n",
    "def find_index(this_ppm):\n",
    "    return int(np.ceil((this_ppm-ppm[0])/interval))\n",
    "\n",
    "def cphase(angle):\n",
    "    return np.exp(1j*np.radians(angle))\n",
    "\n",
    "peaks = [(-57.86,-57.89), (-57.97,-58.3), (-58.40,-58.44), (-207.875,-207.92), (-207.94,-208.05), (-208.2375,-208.2775) ]\n",
    "phases = [-65.0,             -65.0,            114.5,             180.0,                0.0,               0.0]\n",
    "\n",
    "cphases = [ cphase(i) for i in phases ]"
   ]
  },
  {
   "cell_type": "code",
   "execution_count": null,
   "metadata": {
    "collapsed": true
   },
   "outputs": [],
   "source": [
    "spectrum_number = 1      \n",
    "peak_number = 5          \n",
    "spectrum = raw_spectra[spectrum_number]\n",
    "\n",
    "plt.figure(figsize=(18,4))\n",
    "peak = peaks[peak_number]\n",
    "phase = cphases[peak_number]\n",
    "\n",
    "plt.plot(ppm, np.real(spectrum*phase), \"k\")\n",
    "\n",
    "center = np.average(peak)\n",
    "x_axis_range = 0.5\n",
    "start = center+x_axis_range\n",
    "end = center-x_axis_range\n",
    "plt.xlim(start,end)\n",
    "plt.ylim(-1E6, 5E6)     \n",
    "\n",
    "peak_start = find_index(peak[0])\n",
    "peak_end = find_index(peak[1])\n",
    "peak_x = ppm[peak_start:peak_end]\n",
    "peak_y = np.real(spectrum[peak_start:peak_end]*phase)\n",
    "plt.plot(peak_x,peak_y,\"bo\")\n",
    "\n",
    "plt.xlabel(\"19F chemical shift (ppm)\")\n",
    "plt.xticks(np.linspace(end,start,41))\n",
    "\n",
    "ax = plt.gca()\n",
    "ax.tick_params(top=\"off\")\n",
    "ax.get_xaxis().set_tick_params(length=5,direction='out', width=1)\n",
    "locs, labels = plt.xticks()\n",
    "plt.setp(labels, rotation=90)\n",
    "\n",
    "plt.show()"
   ]
  },
  {
   "cell_type": "code",
   "execution_count": null,
   "metadata": {
    "collapsed": true,
    "scrolled": false
   },
   "outputs": [],
   "source": [
    "def compute_baseline(spectrum, order=2, clip_below = -60000, clip_above = 60000, plot=False):\n",
    "    noise_x = ppm.copy()\n",
    "    noise_y = np.real(spectrum.copy())\n",
    "    mask = np.ones(len(ppm), dtype=bool)\n",
    "    for peak in peaks:\n",
    "        index_low  = find_index(peak[0])\n",
    "        index_high = find_index(peak[1])\n",
    "        mask[index_low:index_high] = False\n",
    "    noise_x = noise_x[mask]\n",
    "    noise_y = noise_y[mask]\n",
    "    noise_y = np.clip(noise_y, clip_below, clip_above)\n",
    "\n",
    "    poly_coeff = np.polyfit(noise_x,noise_y,order)\n",
    "    baseline_func = np.poly1d(poly_coeff)\n",
    "    baseline = baseline_func(ppm)\n",
    "    RMSE = np.sqrt(np.mean(np.square(noise_y-baseline_func(noise_x))))\n",
    "\n",
    "    if plot:\n",
    "        plt.figure(figsize=(18,4))\n",
    "        plt.plot(ppm, np.real(spectrum), \"k\")\n",
    "        plt.plot(ppm, baseline, \"r\")\n",
    "        y_minus_limit = 1.67*clip_below if clip_below < 0.0 else 0.6*clip_below\n",
    "        y_plus_limit = 1.67*clip_above if clip_above > 0.0 else 0.6*clip_above\n",
    "        plt.ylim(y_minus_limit,y_plus_limit)\n",
    "        plt.xlabel(\"19F chemical shift (ppm)\")\n",
    "        ax = plt.gca()\n",
    "        ax.tick_params(top=\"off\")\n",
    "        ax.get_xaxis().set_tick_params(length=5,direction='out', width=1)\n",
    "        locs, labels = plt.xticks()\n",
    "        plt.setp(labels, rotation=90)\n",
    "        plt.show()\n",
    "    else:\n",
    "        print \"%.1E \" % (RMSE / 1E5),\n",
    "        for i in poly_coeff:\n",
    "            print \"%6.2f\" % i,\n",
    "        print\n",
    "    return baseline\n",
    "\n",
    "baselines = [ compute_baseline(spectrum) for spectrum in raw_spectra ]\n",
    "subtracted_spectra = [ spectrum - baseline for spectrum, baseline in zip(raw_spectra,baselines) ]"
   ]
  },
  {
   "cell_type": "code",
   "execution_count": null,
   "metadata": {
    "collapsed": true
   },
   "outputs": [],
   "source": [
    "def compute_signal_to_noise(spectrum, noise=(-95.00, -100.00), plot=False):\n",
    "    xy = np.array([ppm,spectrum])\n",
    "    min_value2 = find_index(noise[0])\n",
    "    max_value2 = find_index(noise[1])\n",
    "    y_noise  = np.real(xy[1,min_value2:max_value2])\n",
    "    zero_level   = np.mean(y_noise)\n",
    "\n",
    "    signal_to_noise = []\n",
    "    for i,peak in enumerate(peaks):\n",
    "        min_value1 = find_index(peak[0])\n",
    "        max_value1 = find_index(peak[1])\n",
    "        y_signal = np.real(xy[1,min_value1:max_value1]*cphases[i])\n",
    "\n",
    "        signal_level = np.max(y_signal - zero_level)/2.0\n",
    "        noise_level  = np.sqrt(np.mean(np.square(y_noise-zero_level))) \n",
    "        signal_to_noise.append(signal_level / noise_level)\n",
    "        \n",
    "        if plot:\n",
    "            print \"%.2E %.2E\" % (signal_level, noise_level)\n",
    "            print zero_level\n",
    "            plt.plot(x_signal,y_signal,\"r\")\n",
    "            plt.plot(x_noise,y_noise,\"b\")\n",
    "            #plt.ylim(-5E4,5E4)\n",
    "            plt.show()\n",
    "\n",
    "    return signal_to_noise\n",
    "\n",
    "signal_to_noise_list = [ compute_signal_to_noise(spectrum) for spectrum in subtracted_spectra ]\n",
    "signal_to_noise = DataFrame(signal_to_noise_list)\n",
    "experiment_numbers = [ i+1 for i in range(len(raw_spectra)) ]\n",
    "signal_to_noise[\"run\"] = experiment_numbers\n",
    "signal_to_noise.set_index(\"run\",drop=True,inplace=True)\n",
    "peak_numbers = range(len(peaks))\n",
    "peak_numbers = [\"peak %d\" % (i+1) for i in peak_numbers]\n",
    "signal_to_noise.columns = peak_numbers\n",
    "#display(signal_to_noise)\n",
    "\n",
    "avg_signal_to_noise = signal_to_noise.mean()\n",
    "avg_signal_to_noise = avg_signal_to_noise.apply(lambda x : \"%.0f\" % x)\n",
    "avg_signal_to_noise.name = \"S/N\"\n",
    "display(avg_signal_to_noise)"
   ]
  },
  {
   "cell_type": "code",
   "execution_count": null,
   "metadata": {
    "collapsed": true
   },
   "outputs": [],
   "source": [
    "def integrate(spectrum, i, peak):\n",
    "    index_low = find_index(peak[0])\n",
    "    index_high = find_index(peak[1])\n",
    "    return np.sum(np.real(spectrum[index_low:index_high]*cphases[i]))"
   ]
  },
  {
   "cell_type": "code",
   "execution_count": null,
   "metadata": {
    "collapsed": true
   },
   "outputs": [],
   "source": [
    "# integrate all spectra\n",
    "results=[]\n",
    "for spectrum in subtracted_spectra:\n",
    "    integrals = []\n",
    "    for i,peak in enumerate(peaks):\n",
    "        integrals.append(integrate(spectrum,i,peak))\n",
    "    integrals = np.array(integrals)\n",
    "    integrals = integrals/2E7                          \n",
    "    #integrals = 10.00 * integrals / integrals[3]      \n",
    "    results.append(integrals)\n",
    "    \n",
    "integrations = DataFrame(results)\n",
    "\n",
    "integrations.columns = peak_numbers\n",
    "integrations[\"run\"] = experiment_numbers\n",
    "integrations.set_index(\"run\",drop=True,inplace=True)\n",
    "\n",
    "display(integrations)"
   ]
  },
  {
   "cell_type": "code",
   "execution_count": null,
   "metadata": {
    "collapsed": true
   },
   "outputs": [],
   "source": [
    "print \"n = %d\" % len(integrations)\n",
    "mean = integrations.mean().apply(lambda x : \"%.4f\" % x)\n",
    "stdev = integrations.std().apply(lambda x : \"%.4f\" % x)\n",
    "cov = (100.0*integrations.std()/integrations.mean()).apply(lambda x : \"%.2f%%\" % x)\n",
    "stderr = (integrations.std() / np.sqrt(len(integrations))).apply(lambda x : \"%.4f\" % x)\n",
    "stderr_cov = (100*integrations.std()/(integrations.mean()*np.sqrt(len(integrations)))).apply(lambda x : \"%.2f%%\" % x)\n",
    "headings = [\"avg\", \"stdev\", \"cov\", \"stderr\", \"stderr_cov\", \"S/N\"]\n",
    "summary_df = DataFrame([mean, stdev, cov, stderr, stderr_cov, avg_signal_to_noise], index=headings)\n",
    "display(summary_df)"
   ]
  }
 ],
 "metadata": {
  "kernelspec": {
   "display_name": "Python 2",
   "language": "python",
   "name": "python2"
  },
  "language_info": {
   "codemirror_mode": {
    "name": "ipython",
    "version": 2
   },
   "file_extension": ".py",
   "mimetype": "text/x-python",
   "name": "python",
   "nbconvert_exporter": "python",
   "pygments_lexer": "ipython2",
   "version": "2.7.14"
  }
 },
 "nbformat": 4,
 "nbformat_minor": 1
}
