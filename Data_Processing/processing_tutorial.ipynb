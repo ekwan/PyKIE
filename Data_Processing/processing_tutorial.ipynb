{
 "cells": [
  {
   "cell_type": "markdown",
   "metadata": {},
   "source": [
    "# Data Processing Tutorial\n",
    "\n",
    "In this tutorial, we will process some raw data from an MQF experiment."
   ]
  },
  {
   "cell_type": "markdown",
   "metadata": {},
   "source": [
    "## 1. Import Libraries\n",
    "This includes `pandas` for generating neat tables, `numpy` for its mathematical functions, `matplotlib` for visualizing spectra, and `nmrglue` for importing raw NMR data."
   ]
  },
  {
   "cell_type": "code",
   "execution_count": 1,
   "metadata": {
    "collapsed": true
   },
   "outputs": [],
   "source": [
    "import pandas as pd\n",
    "from pandas import DataFrame, Series\n",
    "import numpy as np\n",
    "from IPython.display import display, HTML\n",
    "import matplotlib\n",
    "matplotlib.use(\"Agg\")\n",
    "import matplotlib.pyplot as plt\n",
    "%matplotlib inline\n",
    "import nmrglue as ng\n",
    "import glob"
   ]
  },
  {
   "cell_type": "markdown",
   "metadata": {},
   "source": [
    "## 2. Load the NMR data\n",
    "* The first line of the cell loads all NMR data in the \"tutorial_data\" folder that contains \"MQF\" in its filename.\n",
    "* Each experiment loaded is a collection of FIDs.\n",
    "* The output of the cell gives information about the the data. For each experiment, the number of FIDs loaded as well as features of those FIDs are displayed. In this case, both experiments consist of four FIDs. These FIDs are made up of 262,144 complex points collected in 32 transients with a delay time of 30 seconds between scans."
   ]
  },
  {
   "cell_type": "code",
   "execution_count": 2,
   "metadata": {},
   "outputs": [
    {
     "name": "stdout",
     "output_type": "stream",
     "text": [
      "Sequence: MQF1DF (C13=nnn, H1=nyy)\n",
      "4 FIDs loaded from tutorial_data/tutorial_MQF_2.fid (262144 complex points, nt=4x32, d1=30 s).\n",
      "Sequence: MQF1DF (C13=nnn, H1=nyy)\n",
      "4 FIDs loaded from tutorial_data/tutorial_MQF_1.fid (262144 complex points, nt=4x32, d1=30 s).\n"
     ]
    }
   ],
   "source": [
    "filenames = glob.glob(\"tutorial_data/*MQF*.fid\")\n",
    "experiment_list = []\n",
    "for filename in filenames:\n",
    "    dic, FIDs = ng.varian.read(filename)\n",
    "    count = 0\n",
    "    for i in range(np.shape(FIDs)[0]):\n",
    "        # ignore blank data\n",
    "        thisFID = FIDs[i]\n",
    "        if np.sum(thisFID) == 0.0 or np.max(np.abs(thisFID)) < 0.1:\n",
    "            print \"Ignored blank FID %d from %s.\" % (i+1, filename)\n",
    "            continue\n",
    "        count += 1\n",
    "        experiment_list.append(FIDs[i])    \n",
    "    npoints = np.shape(experiment_list[0])[0]\n",
    "    print \"Sequence: %s (%s=%s, %s=%s)\" % (dic[\"procpar\"][\"seqfil\"][\"values\"][0], dic[\"procpar\"][\"dn\"][\"values\"][0],\n",
    "                                           dic[\"procpar\"][\"dm\"][\"values\"][0], dic[\"procpar\"][\"dn2\"][\"values\"][0],\n",
    "                                           dic[\"procpar\"][\"dm2\"][\"values\"][0])\n",
    "    print \"%d FIDs loaded from %s (%d complex points, nt=%sx%s, d1=%s s).\" % (count, filename, npoints, len(dic[\"procpar\"][\"nt\"][\"values\"]), dic[\"procpar\"][\"nt\"][\"values\"][0], dic[\"procpar\"][\"d1\"][\"values\"][0])"
   ]
  },
  {
   "cell_type": "markdown",
   "metadata": {},
   "source": [
    "## 3. Load Spectral Parameters\n",
    "\n",
    "We load the spectrometer frequency in MHz (`obs`), the sweep width in Hz (`sw`), and transmitter offset in Hz (`tof`) from the parameter file.  Notice that we only define these once because they're the same for all of the loaded spectra. In the second part of the cell we create a universal dictionary of spectral parameters using `nmrglue`.  You should not need to change the values here."
   ]
  },
  {
   "cell_type": "code",
   "execution_count": 3,
   "metadata": {
    "collapsed": true
   },
   "outputs": [],
   "source": [
    "obs = float(dic[\"procpar\"][\"reffrq\"][\"values\"][0])\n",
    "sw  = float(dic[\"procpar\"][\"sw\"][\"values\"][0])  \n",
    "tof = float(dic[\"procpar\"][\"tof\"][\"values\"][0])     \n",
    "carrier = obs*1.0E6 + tof                           # carrier frequency in Hz\n",
    "\n",
    "udic = ng.varian.guess_udic(dic, FIDs)  \n",
    "udic[0]['size']     = int(dic[\"np\"])   # number of R|I points in the spectrum\n",
    "udic[0]['complex']  = True             # True if complex data\n",
    "udic[0]['encoding'] = 'direct'         # keep as 'direct'\n",
    "udic[0]['sw']       = sw               # spectral width in Hz\n",
    "udic[0]['obs']      = obs              # Observation freq. in MHz.\n",
    "udic[0]['car']      = carrier          # carrier freq in Hz\n",
    "udic[0]['label']    = 'F19'            # the observed nucleus\n",
    "udic[0]['time']     = True             # whether this is time domain data\n",
    "udic[0]['freq']     = False\n",
    "udic[\"ndim\"]=1"
   ]
  },
  {
   "cell_type": "markdown",
   "metadata": {},
   "source": [
    "## 4. FID Processing\n",
    "\n",
    "Here we define a function (`process`) that puts our NMR data into a python processing-friendly format. Specifically, this function loads in a parameter dictionary and an FID and converts it from the NMR machine format (Varian/Agilent) to NMRpipe format. There are some important features of the `process` function. The first step is exponential apodization (`pipe_proc.em`) with line broadening (`lb`). The line broadening constant can be tuned as desired. The next steps are zero-filling (`pip_proc.zf`) and applying the fourier transform (`pipe_proc.ft`). The final step is phase correction (`pipe_proc.ps`). Correcting the phase is essential for accurate processing. We will return to this in the next cell.\n",
    "\n",
    "See the tutorial for more details."
   ]
  },
  {
   "cell_type": "code",
   "execution_count": 4,
   "metadata": {
    "collapsed": true
   },
   "outputs": [],
   "source": [
    "def process(dic, FID):\n",
    "    C = ng.convert.converter()\n",
    "    C.from_varian(dic, FID, udic)\n",
    "    pdic, pdata = C.to_pipe()\n",
    "    pdic, pdata = ng.pipe_proc.em(pdic, pdata, lb=0.25)                 # line broadening\n",
    "    pdic, pdata = ng.pipe_proc.zf(pdic, pdata, size=4*npoints, auto=True)\n",
    "    pdic, pdata = ng.pipe_proc.ft(pdic, pdata)\n",
    "    pdic, pdata = ng.pipe_proc.ps(pdic, pdata, p0=202, p1=0)            # phase correction\n",
    "    return pdic, pdata"
   ]
  },
  {
   "cell_type": "markdown",
   "metadata": {},
   "source": [
    "## 5. Produce a Processed, Referenced, and Phased Spectrum\n",
    "\n",
    "* Apply the processing function to each FID loaded in the second block of code.\n",
    "* Set the horizontal axis to ppm scale.\n",
    "* Adjust the reference for the chemical shift scale by changing the constant (-239.525 right now).\n",
    "* Plot one of the processed spectra.\n",
    "\n",
    "If this is the first time you're loading new data, your spectrum likely will be incorrectly phased. To adjust this return to the block above and modify the phase correction parameters: `p0` (zero order phase correction) and `p1` (first order phase correction). In general, if peaks are too high on the right, the phase correction constants must be increased. If the right sides of the leftmost peaks are lower than the right side of the rightmost peaks, the first order phase correction should be increased. Ideally, peaks will be symmetric and Lorentzian in shape. Because of the nature of the MQF pulse sequence, it may be impossible to phase all peaks perfectly with just these two phases. However, don't worry; there are opportunities for individual peak phasing below.\n",
    "\n",
    "You may want to try changing `plt.xlim` to zoom in for a better look."
   ]
  },
  {
   "cell_type": "code",
   "execution_count": 5,
   "metadata": {},
   "outputs": [
    {
     "data": {
      "image/png": "[encoded data removed]",
      "text/plain": [
       "<matplotlib.figure.Figure at 0x1127e4dd0>"
      ]
     },
     "metadata": {},
     "output_type": "display_data"
    }
   ],
   "source": [
    "raw_spectrum_list = [ process(dic,FID) for FID in experiment_list ]\n",
    "raw_spectra = [ spectrum for dic, spectrum in raw_spectrum_list ]\n",
    "    \n",
    "pdic, pdata = raw_spectrum_list[1]\n",
    "uc = ng.pipe.make_uc(pdic, pdata)\n",
    "ppm = uc.ppm_scale()\n",
    "ppm = ppm - ppm[-1] - 239.525        # adjust this to alter the peak referencing\n",
    "  \n",
    "spectrum_number = 0       # this line allows you to choose which FID to view (zero-indexed)\n",
    "spectrum = raw_spectra[spectrum_number]\n",
    "plt.figure(figsize=(18,4))\n",
    "plt.plot(ppm, np.real(spectrum), \"k\")\n",
    "plt.xlim(-50,-230)      # adjust this to move along the ppm axis\n",
    "plt.ylim(-2E6,1E7)      # adjust this to change the vertical scale\n",
    "\n",
    "plt.xlabel(\"19F chemical shift (ppm)\")\n",
    "ax = plt.gca()\n",
    "ax.tick_params(top=\"off\")\n",
    "ax.get_xaxis().set_tick_params(length=5,direction='out', width=1)\n",
    "locs, labels = plt.xticks()\n",
    "plt.setp(labels, rotation=90)\n",
    "plt.show()"
   ]
  },
  {
   "cell_type": "markdown",
   "metadata": {},
   "source": [
    "## 6. Define Peaks and Adjust Phases\n",
    "\n",
    "* Define the peak integration regions below.\n",
    "* If a peak requires more phase adjustment, change the corresponding value in the `phases` list.\n",
    "* In the case of MQF, it is also useful to define the region where the residual <sup>12</sup>C-<sup>19</sup>F appears. As a result, three regions should be chosen for each fluorine in the molecule: two satelite-containing regions and one residual parent peak region."
   ]
  },
  {
   "cell_type": "code",
   "execution_count": 6,
   "metadata": {
    "collapsed": true
   },
   "outputs": [],
   "source": [
    "interval = ppm[1]-ppm[0]\n",
    "def find_index(this_ppm):\n",
    "    return int(np.ceil((this_ppm-ppm[0])/interval))\n",
    "\n",
    "def cphase(angle):\n",
    "    return np.exp(1j*np.radians(angle))\n",
    "\n",
    "# define all peaks in ppm and pick their phase corrections\n",
    "peaks = [(-57.86,-57.89), (-57.97,-58.3), (-58.40,-58.44), (-207.875,-207.92), (-207.94,-208.05), (-208.2375,-208.2775) ]\n",
    "phases = [-65.0,             -65.0,            114.5,             180.0,                0.0,               0.0]\n",
    "\n",
    "cphases = [ cphase(i) for i in phases ]"
   ]
  },
  {
   "cell_type": "markdown",
   "metadata": {},
   "source": [
    "## 7. Check the Peak Intervals and Phasing\n",
    "At this point the spectrum is almost ready for integration. In this block, we can check each peak individually and see if the region of integration should be shifted or if the phase correction needs to be modified. In fact, it is a good idea to use the cell blow and the cell above to adjust peak regions and phases until they are as close to perfect as possible. This will ensure the most accurate and reliable integrals."
   ]
  },
  {
   "cell_type": "code",
   "execution_count": 7,
   "metadata": {},
   "outputs": [
    {
     "data": {
      "image/png": "[encoded data removed]",
      "text/plain": [
       "<matplotlib.figure.Figure at 0x1c16a3a7d0>"
      ]
     },
     "metadata": {},
     "output_type": "display_data"
    }
   ],
   "source": [
    "spectrum_number = 1      # choose which spectrum to look at (zero-indexed)\n",
    "peak_number = 5          # choose which peak to look at (zero-indexed)\n",
    "spectrum = raw_spectra[spectrum_number]\n",
    "\n",
    "plt.figure(figsize=(18,4))\n",
    "peak = peaks[peak_number]\n",
    "phase = cphases[peak_number]\n",
    "\n",
    "plt.plot(ppm, np.real(spectrum*phase), \"k\")\n",
    "\n",
    "center = np.average(peak)\n",
    "x_axis_range = 0.5\n",
    "start = center+x_axis_range\n",
    "end = center-x_axis_range\n",
    "plt.xlim(start,end)\n",
    "plt.ylim(-1E6, 5E6)      # adjut the vertical axis if necessary\n",
    "\n",
    "peak_start = find_index(peak[0])\n",
    "peak_end = find_index(peak[1])\n",
    "peak_x = ppm[peak_start:peak_end]\n",
    "peak_y = np.real(spectrum[peak_start:peak_end]*phase)\n",
    "plt.plot(peak_x,peak_y,\"bo\")\n",
    "\n",
    "plt.xlabel(\"19F chemical shift (ppm)\")\n",
    "plt.xticks(np.linspace(end,start,41))\n",
    "\n",
    "ax = plt.gca()\n",
    "ax.tick_params(top=\"off\")\n",
    "ax.get_xaxis().set_tick_params(length=5,direction='out', width=1)\n",
    "locs, labels = plt.xticks()\n",
    "plt.setp(labels, rotation=90)\n",
    "\n",
    "plt.show()"
   ]
  },
  {
   "cell_type": "markdown",
   "metadata": {},
   "source": [
    "## 8. Computing and Applying a Baseline Correction\n",
    "\n",
    "In the final step of NMR pre-processing, we calculate and apply an n<sup>th</sup> order baseline correction to each spectrum. The function works by first defining all parts of the spectrum that are not peaks as \"noise\". It next fits a polynomial to this noise and then subtracts it from the raw-spectrum. The order of the function can be adjusted based on the needs of the user. The `clip_below` and `clip_above` parameters in the function definition specify the vertical region outside of which noise will be ignored. Finally, the plot boolean can be set to `True` if the user would like to see the baseline overlayed on each spectrum. The output of the function is either a plotted spectrum or a numerical summary of the baseline correction (the polynomial coefficients and RMSE)."
   ]
  },
  {
   "cell_type": "code",
   "execution_count": 8,
   "metadata": {
    "scrolled": false
   },
   "outputs": [
    {
     "name": "stdout",
     "output_type": "stream",
     "text": [
      "1.3E-01   -0.06   4.04 3556.09\n",
      "1.3E-01    0.17  41.43 1417.14\n",
      "1.3E-01    0.19  44.26 952.91\n",
      "1.3E-01    0.04  18.38 2003.95\n",
      "1.4E-01   -0.27 -33.80 4239.83\n",
      "1.3E-01    0.14  35.34 1569.38\n",
      "1.3E-01    0.14  35.22 1036.78\n",
      "1.3E-01    0.11  30.70 1852.44\n"
     ]
    }
   ],
   "source": [
    "def compute_baseline(spectrum, order=2, clip_below = -60000, clip_above = 60000, plot=False):\n",
    "    noise_x = ppm.copy()\n",
    "    noise_y = np.real(spectrum.copy())\n",
    "    mask = np.ones(len(ppm), dtype=bool)\n",
    "    for peak in peaks:\n",
    "        index_low  = find_index(peak[0])\n",
    "        index_high = find_index(peak[1])\n",
    "        mask[index_low:index_high] = False\n",
    "    noise_x = noise_x[mask]\n",
    "    noise_y = noise_y[mask]\n",
    "    noise_y = np.clip(noise_y, clip_below, clip_above)\n",
    "\n",
    "    poly_coeff = np.polyfit(noise_x,noise_y,order)\n",
    "    baseline_func = np.poly1d(poly_coeff)\n",
    "    baseline = baseline_func(ppm)\n",
    "    RMSE = np.sqrt(np.mean(np.square(noise_y-baseline_func(noise_x))))\n",
    "\n",
    "    if plot:\n",
    "        plt.figure(figsize=(18,4))\n",
    "        plt.plot(ppm, np.real(spectrum), \"k\")\n",
    "        plt.plot(ppm, baseline, \"r\")\n",
    "        y_minus_limit = 1.67*clip_below if clip_below < 0.0 else 0.6*clip_below\n",
    "        y_plus_limit = 1.67*clip_above if clip_above > 0.0 else 0.6*clip_above\n",
    "        plt.ylim(y_minus_limit,y_plus_limit)\n",
    "        plt.xlabel(\"19F chemical shift (ppm)\")\n",
    "        ax = plt.gca()\n",
    "        ax.tick_params(top=\"off\")\n",
    "        ax.get_xaxis().set_tick_params(length=5,direction='out', width=1)\n",
    "        locs, labels = plt.xticks()\n",
    "        plt.setp(labels, rotation=90)\n",
    "        plt.show()\n",
    "    else:\n",
    "        print \"%.1E \" % (RMSE / 1E5),\n",
    "        for i in poly_coeff:\n",
    "            print \"%6.2f\" % i,\n",
    "        print\n",
    "    return baseline\n",
    "\n",
    "baselines = [ compute_baseline(spectrum) for spectrum in raw_spectra ]\n",
    "subtracted_spectra = [ spectrum - baseline for spectrum, baseline in zip(raw_spectra,baselines) ]"
   ]
  },
  {
   "cell_type": "markdown",
   "metadata": {},
   "source": [
    "## 9. Calculate the Signal to Noise Ratios\n",
    "\n",
    "With the NMR spectra fully processed, we can now obtain relevant information from the data. The first useful statistic is the signal to noise (S/N) ratio. The `compute_signal_to_noise` function takes in a spectrum and a user-defined region of noise to calculate S/N. The noise range should be defined carefully to be relatively uniform and completely peak free. The function itself applies a zero-order correction to the noise region before calculating the RMS of the noise level in the defined region. To calculate the S/N it divides half of the max signal of a given peak by this RMS noise level. The function returns the signal to noise ratio for each peak by averaging the calculated ratios for every spectrum analyzed."
   ]
  },
  {
   "cell_type": "code",
   "execution_count": 9,
   "metadata": {},
   "outputs": [
    {
     "data": {
      "text/plain": [
       "peak 1    915\n",
       "peak 2    501\n",
       "peak 3    890\n",
       "peak 4    296\n",
       "peak 5    598\n",
       "peak 6    298\n",
       "Name: S/N, dtype: object"
      ]
     },
     "metadata": {},
     "output_type": "display_data"
    }
   ],
   "source": [
    "def compute_signal_to_noise(spectrum, noise=(-95.00, -100.00), plot=False):\n",
    "    xy = np.array([ppm,spectrum])\n",
    "    min_value2 = find_index(noise[0])\n",
    "    max_value2 = find_index(noise[1])\n",
    "    y_noise  = np.real(xy[1,min_value2:max_value2])\n",
    "    zero_level   = np.mean(y_noise)\n",
    "\n",
    "    signal_to_noise = []\n",
    "    for i,peak in enumerate(peaks):\n",
    "        min_value1 = find_index(peak[0])\n",
    "        max_value1 = find_index(peak[1])\n",
    "        y_signal = np.real(xy[1,min_value1:max_value1]*cphases[i])\n",
    "\n",
    "        signal_level = np.max(y_signal - zero_level)/2.0\n",
    "        noise_level  = np.sqrt(np.mean(np.square(y_noise-zero_level))) \n",
    "        signal_to_noise.append(signal_level / noise_level)\n",
    "        \n",
    "        if plot:\n",
    "            print \"%.2E %.2E\" % (signal_level, noise_level)\n",
    "            print zero_level\n",
    "            plt.plot(x_signal,y_signal,\"r\")\n",
    "            plt.plot(x_noise,y_noise,\"b\")\n",
    "            #plt.ylim(-5E4,5E4)\n",
    "            plt.show()\n",
    "\n",
    "    return signal_to_noise\n",
    "\n",
    "signal_to_noise_list = [ compute_signal_to_noise(spectrum) for spectrum in subtracted_spectra ]\n",
    "signal_to_noise = DataFrame(signal_to_noise_list)\n",
    "experiment_numbers = [ i+1 for i in range(len(raw_spectra)) ]\n",
    "signal_to_noise[\"run\"] = experiment_numbers\n",
    "signal_to_noise.set_index(\"run\",drop=True,inplace=True)\n",
    "peak_numbers = range(len(peaks))\n",
    "peak_numbers = [\"peak %d\" % (i+1) for i in peak_numbers]\n",
    "signal_to_noise.columns = peak_numbers\n",
    "#display(signal_to_noise)\n",
    "\n",
    "avg_signal_to_noise = signal_to_noise.mean()\n",
    "avg_signal_to_noise = avg_signal_to_noise.apply(lambda x : \"%.0f\" % x)\n",
    "avg_signal_to_noise.name = \"S/N\"\n",
    "display(avg_signal_to_noise)"
   ]
  },
  {
   "cell_type": "markdown",
   "metadata": {},
   "source": [
    "## 10. Calculate the Peak Integrals\n",
    "Finally, the next three boxes of code are used to calculate the average integrals and some associated statstics for each peak. The first box defines the integration function itself and the second box applies that function to each peak within each spectrum. A user can choose whether the integrals are in absolute arbitrary units or are referenced relative to another peak in the spectrum. The output from the second block of code shows the individual integrals from each peak for each experiment. Lastly, the third block of code provides the user with summary statistics: average integrals and their associated standard deviations, coefficients of variation, standard errors, standard errors of the coefficient of variation, and signal to noise ratios."
   ]
  },
  {
   "cell_type": "code",
   "execution_count": 10,
   "metadata": {
    "collapsed": true
   },
   "outputs": [],
   "source": [
    "def integrate(spectrum, i, peak):\n",
    "    index_low = find_index(peak[0])\n",
    "    index_high = find_index(peak[1])\n",
    "    return np.sum(np.real(spectrum[index_low:index_high]*cphases[i]))"
   ]
  },
  {
   "cell_type": "code",
   "execution_count": 11,
   "metadata": {},
   "outputs": [
    {
     "data": {
      "text/html": [
       "<div>\n",
       "<style>\n",
       "    .dataframe thead tr:only-child th {\n",
       "        text-align: right;\n",
       "    }\n",
       "\n",
       "    .dataframe thead th {\n",
       "        text-align: left;\n",
       "    }\n",
       "\n",
       "    .dataframe tbody tr th {\n",
       "        vertical-align: top;\n",
       "    }\n",
       "</style>\n",
       "<table border=\"1\" class=\"dataframe\">\n",
       "  <thead>\n",
       "    <tr style=\"text-align: right;\">\n",
       "      <th></th>\n",
       "      <th>peak 1</th>\n",
       "      <th>peak 2</th>\n",
       "      <th>peak 3</th>\n",
       "      <th>peak 4</th>\n",
       "      <th>peak 5</th>\n",
       "      <th>peak 6</th>\n",
       "    </tr>\n",
       "    <tr>\n",
       "      <th>run</th>\n",
       "      <th></th>\n",
       "      <th></th>\n",
       "      <th></th>\n",
       "      <th></th>\n",
       "      <th></th>\n",
       "      <th></th>\n",
       "    </tr>\n",
       "  </thead>\n",
       "  <tbody>\n",
       "    <tr>\n",
       "      <th>1</th>\n",
       "      <td>18.386262</td>\n",
       "      <td>0.533341</td>\n",
       "      <td>18.428295</td>\n",
       "      <td>8.693112</td>\n",
       "      <td>-0.193676</td>\n",
       "      <td>8.800940</td>\n",
       "    </tr>\n",
       "    <tr>\n",
       "      <th>2</th>\n",
       "      <td>18.019076</td>\n",
       "      <td>0.159920</td>\n",
       "      <td>18.280568</td>\n",
       "      <td>8.710253</td>\n",
       "      <td>-0.930087</td>\n",
       "      <td>8.856062</td>\n",
       "    </tr>\n",
       "    <tr>\n",
       "      <th>3</th>\n",
       "      <td>17.678884</td>\n",
       "      <td>0.645394</td>\n",
       "      <td>18.278564</td>\n",
       "      <td>8.789973</td>\n",
       "      <td>-0.201184</td>\n",
       "      <td>8.750826</td>\n",
       "    </tr>\n",
       "    <tr>\n",
       "      <th>4</th>\n",
       "      <td>18.130820</td>\n",
       "      <td>-2.669158</td>\n",
       "      <td>18.066361</td>\n",
       "      <td>9.709195</td>\n",
       "      <td>2.584680</td>\n",
       "      <td>8.724589</td>\n",
       "    </tr>\n",
       "    <tr>\n",
       "      <th>5</th>\n",
       "      <td>18.079298</td>\n",
       "      <td>2.870281</td>\n",
       "      <td>18.330034</td>\n",
       "      <td>7.636244</td>\n",
       "      <td>-1.800313</td>\n",
       "      <td>8.714607</td>\n",
       "    </tr>\n",
       "    <tr>\n",
       "      <th>6</th>\n",
       "      <td>18.437380</td>\n",
       "      <td>2.277327</td>\n",
       "      <td>18.312585</td>\n",
       "      <td>8.418888</td>\n",
       "      <td>-0.150697</td>\n",
       "      <td>8.786001</td>\n",
       "    </tr>\n",
       "    <tr>\n",
       "      <th>7</th>\n",
       "      <td>18.067495</td>\n",
       "      <td>-1.275134</td>\n",
       "      <td>18.128215</td>\n",
       "      <td>9.070658</td>\n",
       "      <td>1.625930</td>\n",
       "      <td>8.803467</td>\n",
       "    </tr>\n",
       "    <tr>\n",
       "      <th>8</th>\n",
       "      <td>17.923212</td>\n",
       "      <td>0.154697</td>\n",
       "      <td>18.133286</td>\n",
       "      <td>9.106791</td>\n",
       "      <td>0.515478</td>\n",
       "      <td>8.706342</td>\n",
       "    </tr>\n",
       "  </tbody>\n",
       "</table>\n",
       "</div>"
      ],
      "text/plain": [
       "        peak 1    peak 2     peak 3    peak 4    peak 5    peak 6\n",
       "run                                                              \n",
       "1    18.386262  0.533341  18.428295  8.693112 -0.193676  8.800940\n",
       "2    18.019076  0.159920  18.280568  8.710253 -0.930087  8.856062\n",
       "3    17.678884  0.645394  18.278564  8.789973 -0.201184  8.750826\n",
       "4    18.130820 -2.669158  18.066361  9.709195  2.584680  8.724589\n",
       "5    18.079298  2.870281  18.330034  7.636244 -1.800313  8.714607\n",
       "6    18.437380  2.277327  18.312585  8.418888 -0.150697  8.786001\n",
       "7    18.067495 -1.275134  18.128215  9.070658  1.625930  8.803467\n",
       "8    17.923212  0.154697  18.133286  9.106791  0.515478  8.706342"
      ]
     },
     "metadata": {},
     "output_type": "display_data"
    }
   ],
   "source": [
    "# integrate all spectra\n",
    "results=[]\n",
    "for spectrum in subtracted_spectra:\n",
    "    integrals = []\n",
    "    for i,peak in enumerate(peaks):\n",
    "        integrals.append(integrate(spectrum,i,peak))\n",
    "    integrals = np.array(integrals)\n",
    "    integrals = integrals/2E7                          # for absolute integrals (arbitrary scale factor)\n",
    "    #integrals = 10.00 * integrals / integrals[3]      # for referenced integrals\n",
    "    results.append(integrals)\n",
    "    \n",
    "integrations = DataFrame(results)\n",
    "\n",
    "integrations.columns = peak_numbers\n",
    "integrations[\"run\"] = experiment_numbers\n",
    "integrations.set_index(\"run\",drop=True,inplace=True)\n",
    "\n",
    "display(integrations)"
   ]
  },
  {
   "cell_type": "code",
   "execution_count": 12,
   "metadata": {},
   "outputs": [
    {
     "name": "stdout",
     "output_type": "stream",
     "text": [
      "n = 8\n"
     ]
    },
    {
     "data": {
      "text/html": [
       "<div>\n",
       "<style>\n",
       "    .dataframe thead tr:only-child th {\n",
       "        text-align: right;\n",
       "    }\n",
       "\n",
       "    .dataframe thead th {\n",
       "        text-align: left;\n",
       "    }\n",
       "\n",
       "    .dataframe tbody tr th {\n",
       "        vertical-align: top;\n",
       "    }\n",
       "</style>\n",
       "<table border=\"1\" class=\"dataframe\">\n",
       "  <thead>\n",
       "    <tr style=\"text-align: right;\">\n",
       "      <th></th>\n",
       "      <th>peak 1</th>\n",
       "      <th>peak 2</th>\n",
       "      <th>peak 3</th>\n",
       "      <th>peak 4</th>\n",
       "      <th>peak 5</th>\n",
       "      <th>peak 6</th>\n",
       "    </tr>\n",
       "  </thead>\n",
       "  <tbody>\n",
       "    <tr>\n",
       "      <th>avg</th>\n",
       "      <td>18.0903</td>\n",
       "      <td>0.3371</td>\n",
       "      <td>18.2447</td>\n",
       "      <td>8.7669</td>\n",
       "      <td>0.1813</td>\n",
       "      <td>8.7679</td>\n",
       "    </tr>\n",
       "    <tr>\n",
       "      <th>stdev</th>\n",
       "      <td>0.2428</td>\n",
       "      <td>1.7735</td>\n",
       "      <td>0.1230</td>\n",
       "      <td>0.5981</td>\n",
       "      <td>1.3905</td>\n",
       "      <td>0.0524</td>\n",
       "    </tr>\n",
       "    <tr>\n",
       "      <th>cov</th>\n",
       "      <td>1.34%</td>\n",
       "      <td>526.12%</td>\n",
       "      <td>0.67%</td>\n",
       "      <td>6.82%</td>\n",
       "      <td>767.09%</td>\n",
       "      <td>0.60%</td>\n",
       "    </tr>\n",
       "    <tr>\n",
       "      <th>stderr</th>\n",
       "      <td>0.0858</td>\n",
       "      <td>0.6270</td>\n",
       "      <td>0.0435</td>\n",
       "      <td>0.2115</td>\n",
       "      <td>0.4916</td>\n",
       "      <td>0.0185</td>\n",
       "    </tr>\n",
       "    <tr>\n",
       "      <th>stderr_cov</th>\n",
       "      <td>0.47%</td>\n",
       "      <td>186.01%</td>\n",
       "      <td>0.24%</td>\n",
       "      <td>2.41%</td>\n",
       "      <td>271.21%</td>\n",
       "      <td>0.21%</td>\n",
       "    </tr>\n",
       "    <tr>\n",
       "      <th>S/N</th>\n",
       "      <td>915</td>\n",
       "      <td>501</td>\n",
       "      <td>890</td>\n",
       "      <td>296</td>\n",
       "      <td>598</td>\n",
       "      <td>298</td>\n",
       "    </tr>\n",
       "  </tbody>\n",
       "</table>\n",
       "</div>"
      ],
      "text/plain": [
       "             peak 1   peak 2   peak 3  peak 4   peak 5  peak 6\n",
       "avg         18.0903   0.3371  18.2447  8.7669   0.1813  8.7679\n",
       "stdev        0.2428   1.7735   0.1230  0.5981   1.3905  0.0524\n",
       "cov           1.34%  526.12%    0.67%   6.82%  767.09%   0.60%\n",
       "stderr       0.0858   0.6270   0.0435  0.2115   0.4916  0.0185\n",
       "stderr_cov    0.47%  186.01%    0.24%   2.41%  271.21%   0.21%\n",
       "S/N             915      501      890     296      598     298"
      ]
     },
     "metadata": {},
     "output_type": "display_data"
    }
   ],
   "source": [
    "print \"n = %d\" % len(integrations)\n",
    "mean = integrations.mean().apply(lambda x : \"%.4f\" % x)\n",
    "stdev = integrations.std().apply(lambda x : \"%.4f\" % x)\n",
    "cov = (100.0*integrations.std()/integrations.mean()).apply(lambda x : \"%.2f%%\" % x)\n",
    "stderr = (integrations.std() / np.sqrt(len(integrations))).apply(lambda x : \"%.4f\" % x)\n",
    "stderr_cov = (100*integrations.std()/(integrations.mean()*np.sqrt(len(integrations)))).apply(lambda x : \"%.2f%%\" % x)\n",
    "headings = [\"avg\", \"stdev\", \"cov\", \"stderr\", \"stderr_cov\", \"S/N\"]\n",
    "summary_df = DataFrame([mean, stdev, cov, stderr, stderr_cov, avg_signal_to_noise], index=headings)\n",
    "display(summary_df)"
   ]
  }
 ],
 "metadata": {
  "kernelspec": {
   "display_name": "Python 2",
   "language": "python",
   "name": "python2"
  },
  "language_info": {
   "codemirror_mode": {
    "name": "ipython",
    "version": 2
   },
   "file_extension": ".py",
   "mimetype": "text/x-python",
   "name": "python",
   "nbconvert_exporter": "python",
   "pygments_lexer": "ipython2",
   "version": "2.7.6"
  }
 },
 "nbformat": 4,
 "nbformat_minor": 1
}
