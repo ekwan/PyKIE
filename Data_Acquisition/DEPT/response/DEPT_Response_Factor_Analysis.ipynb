{
 "cells": [
  {
   "cell_type": "markdown",
   "metadata": {},
   "source": [
    "# DEPT Response Factor Analysis\n",
    "\n",
    "This notebook calculates the optimal coherence transfer delay and tip angle for DEPT experiments.  Below, you can input the 1-bond coupling constants and multiplicities (CH, CH<sub>2</sub>, CH<sub>3</sub>) of the peaks of interest.  This program will then return the response factors and optimal parameters for DEPT.\n",
    "\n",
    "Note that this program requires the `lmfit` [package](https://lmfit.github.io/lmfit-py/)."
   ]
  },
  {
   "cell_type": "code",
   "execution_count": 1,
   "metadata": {
    "collapsed": true
   },
   "outputs": [],
   "source": [
    "# load libraries\n",
    "import numpy as np\n",
    "import matplotlib\n",
    "matplotlib.use(\"Agg\")\n",
    "import matplotlib.pyplot as plt\n",
    "%matplotlib inline\n",
    "import pandas as pd\n",
    "from pandas import DataFrame, Series\n",
    "from IPython.display import display, HTML\n",
    "from math import sin, cos, radians\n",
    "from itertools import product\n",
    "from lmfit import minimize, Parameter, Parameters, report_fit\n",
    "import random\n",
    "import sys"
   ]
  },
  {
   "cell_type": "markdown",
   "metadata": {},
   "source": [
    "## User Data\n",
    "\n",
    "Enter your 1-bond coupling constants and multiplicities below.  Only enter in values for the peaks of interest."
   ]
  },
  {
   "cell_type": "code",
   "execution_count": 2,
   "metadata": {
    "collapsed": true
   },
   "outputs": [],
   "source": [
    "couplings = [ 119, 127, 125, 140, 150]  # one-bond carbon-proton coupling constants in Hz\n",
    "multiplicities = [ 1,3, 3, 2, 1]        # n in CHn, where n is the number of protons\n",
    "peaks = zip(couplings,multiplicities)"
   ]
  },
  {
   "cell_type": "code",
   "execution_count": 3,
   "metadata": {
    "collapsed": true
   },
   "outputs": [],
   "source": [
    "# define polynomial powers of trigonometric functions\n",
    "def sin2(x):\n",
    "    return pow(sin(x),2.0)\n",
    "def sin4(x):\n",
    "    return pow(sin(x),4.0)\n",
    "def sin6(x):\n",
    "    return pow(sin(x),6.0)\n",
    "def cos2(x):\n",
    "    return pow(cos(x),2.0)\n",
    "def cos4(x):\n",
    "    return pow(cos(x),4.0)\n",
    "def cos6(x):\n",
    "    return pow(cos(x),2.0)\n",
    "pi = np.pi"
   ]
  },
  {
   "cell_type": "code",
   "execution_count": 4,
   "metadata": {
    "collapsed": true
   },
   "outputs": [],
   "source": [
    "# product operator functions\n",
    "# delta = magnetization transfer delay (seconds)\n",
    "# J = coupling constant (Hz)\n",
    "# theta = tip angle (radians)\n",
    "# returns the DEPT response factor\n",
    "\n",
    "# product operators for a methine\n",
    "def CH(delta,J,theta):\n",
    "    return 4.0*sin2(pi*delta*J)*sin(theta)\n",
    "\n",
    "# product operators for a methylene\n",
    "def CH2(delta,J,theta):\n",
    "    arg = pi*delta*J\n",
    "    term1 = sin4(arg)*cos(theta)\n",
    "    term2 = sin2(arg)*cos2(arg)\n",
    "    return 8.0*sin(theta)*(term1+term2)\n",
    "\n",
    "# product operators for a methyl\n",
    "def CH3(delta,J,theta):\n",
    "    arg = pi*delta*J\n",
    "    term1 = sin6(arg)*sin(theta)*cos2(theta)\n",
    "    term2 = sin4(arg)*cos2(arg) *sin(2.0*theta)\n",
    "    term3 = sin2(arg)*cos4(arg) *sin(theta)\n",
    "    return 12.0*(term1+term2+term3)\n",
    "\n",
    "# returns the correction product operator function for\n",
    "# a given multiplicity\n",
    "def compute(mult):\n",
    "    if mult == 1:\n",
    "        return CH\n",
    "    elif mult == 2:\n",
    "        return CH2\n",
    "    elif mult == 3:\n",
    "        return CH3"
   ]
  },
  {
   "cell_type": "markdown",
   "metadata": {},
   "source": [
    "# Optimization Function\n",
    "\n",
    "You can either maximize the mean response factor or minimize the overall variation in response factors here.\n",
    "\n",
    "You may wish to input a subset of your peaks of interest in the \"User Data\" cell to optimize the experiment for certain peaks."
   ]
  },
  {
   "cell_type": "code",
   "execution_count": 5,
   "metadata": {
    "collapsed": true
   },
   "outputs": [],
   "source": [
    "# optimize delta and theta across all peaks\n",
    "#\n",
    "# defines the objective function\n",
    "# x is a vector [delta, theta] that corresponds to the\n",
    "# delay and angle for a candidate solution\n",
    "def trial(x):\n",
    "    x = x.valuesdict().values()\n",
    "    delta = x[0] / 1000.0            # convert from ms to seconds\n",
    "    theta = np.radians(x[1])         # convert from degrees to radians\n",
    "    \n",
    "    all_peaks = []                   # store the response factors here\n",
    "    for J,mult in peaks:\n",
    "        f = compute(mult)            # compute response factors\n",
    "        this_peak = f(delta,J,theta)\n",
    "        all_peaks.append(this_peak)\n",
    "    all_peaks = np.array(all_peaks)\n",
    "    mean = -np.mean(all_peaks)       # will maximize mean response factor\n",
    "    stdev = np.std(all_peaks)        # will minimize variation in response factors\n",
    "    return stdev                      # !!! set to mean or stdev !!!"
   ]
  },
  {
   "cell_type": "code",
   "execution_count": 6,
   "metadata": {
    "collapsed": true
   },
   "outputs": [],
   "source": [
    "# function for printing status reports\n",
    "def iter_cb(params, iteration, residual):\n",
    "    print \"iteration %5d   residual = %18.14f    \\r\" % (iteration, residual),\n",
    "    sys.stdout.flush()"
   ]
  },
  {
   "cell_type": "markdown",
   "metadata": {},
   "source": [
    "# Optimization\n",
    "\n",
    "This cell performs the optimization.  Please use the optimized parameters in your DEPT experiment."
   ]
  },
  {
   "cell_type": "code",
   "execution_count": 7,
   "metadata": {
    "scrolled": false
   },
   "outputs": [
    {
     "name": "stdout",
     "output_type": "stream",
     "text": [
      "=== Optimized Parameters ===\n",
      "delta:  3.668 ms      (set j1xh=136.31)\n",
      "theta: 55.691 degrees (set mult=0.6188)\n",
      "\n"
     ]
    }
   ],
   "source": [
    "# perform constrained optimization\n",
    "delta_min = 2.0\n",
    "delta_max = 5.0\n",
    "theta_min = 30.0\n",
    "theta_max = 90.0\n",
    "\n",
    "# input a random starting point within the constraints\n",
    "parameters = Parameters()\n",
    "parameters.add(\"delta\", value = random.uniform(delta_min, delta_max), min=delta_min, max=delta_max)\n",
    "parameters.add(\"theta\", value = random.uniform(theta_min, theta_max), min=theta_min, max=theta_max)\n",
    "#print parameters.valuesdict().values()\n",
    "\n",
    "# run the optimization\n",
    "output = minimize(trial, parameters, method=\"differential_evolution\", tol=1e-3)\n",
    "# use this line instead if you want a status update (slows it down)\n",
    "#output = minimize(trial, parameters, method=\"differential_evolution\", iter_cb=iter_cb, tol=1e-4)\n",
    "\n",
    "# report the result\n",
    "#report_fit(output)\n",
    "optimal_delta = output.params.valuesdict()[\"delta\"]\n",
    "optimal_theta = output.params.valuesdict()[\"theta\"]\n",
    "optimal_delta_s = optimal_delta / 1000.0\n",
    "optimal_theta_rad = np.radians(optimal_theta)\n",
    "print \"=== Optimized Parameters ===\"\n",
    "print \"delta: %6.3f ms      (set j1xh=%.2f)\" % (optimal_delta, 1000.0/(2.0*optimal_delta))\n",
    "print \"theta: %6.3f degrees (set mult=%.4f)\" % (optimal_theta, optimal_theta/90.0) \n",
    "print"
   ]
  },
  {
   "cell_type": "code",
   "execution_count": 8,
   "metadata": {},
   "outputs": [
    {
     "data": {
      "text/html": [
       "<div>\n",
       "<style>\n",
       "    .dataframe thead tr:only-child th {\n",
       "        text-align: right;\n",
       "    }\n",
       "\n",
       "    .dataframe thead th {\n",
       "        text-align: left;\n",
       "    }\n",
       "\n",
       "    .dataframe tbody tr th {\n",
       "        vertical-align: top;\n",
       "    }\n",
       "</style>\n",
       "<table border=\"1\" class=\"dataframe\">\n",
       "  <thead>\n",
       "    <tr style=\"text-align: right;\">\n",
       "      <th></th>\n",
       "      <th>type</th>\n",
       "      <th>J</th>\n",
       "      <th>response</th>\n",
       "    </tr>\n",
       "    <tr>\n",
       "      <th>label</th>\n",
       "      <th></th>\n",
       "      <th></th>\n",
       "      <th></th>\n",
       "    </tr>\n",
       "  </thead>\n",
       "  <tbody>\n",
       "    <tr>\n",
       "      <th>peak 1</th>\n",
       "      <td>CH</td>\n",
       "      <td>119</td>\n",
       "      <td>3.174298</td>\n",
       "    </tr>\n",
       "    <tr>\n",
       "      <th>peak 2</th>\n",
       "      <td>CH3</td>\n",
       "      <td>127</td>\n",
       "      <td>3.168610</td>\n",
       "    </tr>\n",
       "    <tr>\n",
       "      <th>peak 3</th>\n",
       "      <td>CH3</td>\n",
       "      <td>125</td>\n",
       "      <td>3.177509</td>\n",
       "    </tr>\n",
       "    <tr>\n",
       "      <th>peak 4</th>\n",
       "      <td>CH2</td>\n",
       "      <td>140</td>\n",
       "      <td>3.723174</td>\n",
       "    </tr>\n",
       "    <tr>\n",
       "      <th>peak 5</th>\n",
       "      <td>CH</td>\n",
       "      <td>150</td>\n",
       "      <td>3.222460</td>\n",
       "    </tr>\n",
       "  </tbody>\n",
       "</table>\n",
       "</div>"
      ],
      "text/plain": [
       "       type    J  response\n",
       "label                     \n",
       "peak 1   CH  119  3.174298\n",
       "peak 2  CH3  127  3.168610\n",
       "peak 3  CH3  125  3.177509\n",
       "peak 4  CH2  140  3.723174\n",
       "peak 5   CH  150  3.222460"
      ]
     },
     "metadata": {},
     "output_type": "display_data"
    }
   ],
   "source": [
    "# print a table of the response factors for the optimal values\n",
    "# a response factor of 3 means the S/N is predicted to be enhanced\n",
    "# by a factor of 3 over direct carbon detection\n",
    "peak_labels = [\"peak %d\" % i for i in range(1,len(peaks)+1)]\n",
    "types = [\"CH%d\" % i if i > 1 else \"CH\" for i in multiplicities]\n",
    "response_factors = []\n",
    "for peak in peaks:\n",
    "    J,mult = peak[0],peak[1]\n",
    "    f = compute(mult)\n",
    "    response = f(optimal_delta_s, J, optimal_theta_rad)\n",
    "    response_factors.append(response)\n",
    "df = DataFrame({\"label\":peak_labels,\n",
    "                \"J\":couplings,\n",
    "                \"type\":types,\n",
    "                \"response\":response_factors},\n",
    "                columns = [\"label\",\"type\",\"J\",\"response\"])\n",
    "df.set_index(\"label\",inplace=True)\n",
    "display(df)"
   ]
  },
  {
   "cell_type": "code",
   "execution_count": 9,
   "metadata": {
    "scrolled": false
   },
   "outputs": [
    {
     "data": {
      "image/png": "[encoded data removed]",
      "text/plain": [
       "<matplotlib.figure.Figure at 0x10de65d50>"
      ]
     },
     "metadata": {},
     "output_type": "display_data"
    }
   ],
   "source": [
    "# plot a graph of the variation in response factors vs. coupling constant\n",
    "# for this customized DEPT experiment\n",
    "x = np.linspace(100.0, 200.0, 200)   # in Hz\n",
    "line1 = np.vectorize(CH)(optimal_delta_s,x,optimal_theta_rad)\n",
    "line2 = np.vectorize(CH2)(optimal_delta_s,x,optimal_theta_rad)\n",
    "line3 = np.vectorize(CH3)(optimal_delta_s,x,optimal_theta_rad)\n",
    "\n",
    "plt.figure(figsize=(10,8))\n",
    "plt.title(\"Response Factor Analysis\")\n",
    "plt.plot(x,line1,\"k\", label=\"CH\")\n",
    "plt.plot(x,line2,\"r\",label=\"CH2\")\n",
    "plt.plot(x,line3,\"b\",label=\"CH3\")\n",
    "plt.legend(loc=\"best\")\n",
    "df2=df.query(\"type == 'CH'\")\n",
    "plt.plot(df2.J, df2.response, \"ko\")\n",
    "df2=df.query(\"type == 'CH2'\")\n",
    "plt.plot(df2.J, df2.response, \"ro\")\n",
    "df2=df.query(\"type == 'CH3'\")\n",
    "plt.plot(df2.J, df2.response, \"bo\")\n",
    "plt.xlim(100,200)\n",
    "plt.ylim(-0.2,5.0)\n",
    "plt.xlabel(\"1JCH (Hz)\")\n",
    "plt.ylabel(\"response factor\")\n",
    "plt.show()"
   ]
  }
 ],
 "metadata": {
  "kernelspec": {
   "display_name": "Python 2",
   "language": "python",
   "name": "python2"
  },
  "language_info": {
   "codemirror_mode": {
    "name": "ipython",
    "version": 2
   },
   "file_extension": ".py",
   "mimetype": "text/x-python",
   "name": "python",
   "nbconvert_exporter": "python",
   "pygments_lexer": "ipython2",
   "version": "2.7.14"
  }
 },
 "nbformat": 4,
 "nbformat_minor": 2
}
